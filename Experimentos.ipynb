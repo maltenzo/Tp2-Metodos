{
 "cells": [
  {
   "cell_type": "code",
   "execution_count": 30,
   "id": "fd101e34",
   "metadata": {},
   "outputs": [],
   "source": [
    "#imports\n",
    "import math, subprocess\n",
    "import pandas as pd\n",
    "import numpy as np\n",
    "from IPython.display import display, clear_output\n",
    "from sklearn.model_selection import train_test_split, KFold\n",
    "from sklearn.utils import resample\n",
    "import os\n",
    "from os import listdir, path"
   ]
  },
  {
   "cell_type": "code",
   "execution_count": 31,
   "id": "0a0ce3fb",
   "metadata": {},
   "outputs": [],
   "source": [
    "paths = [\n",
    "    \"Resultados\",\n",
    "    \"Data\"\n",
    "]\n",
    "def crearPaths(paths=paths):\n",
    "    for p in paths:    \n",
    "        if not path.exists(f\"{os.getcwd()}/{p}\"):\n",
    "            os.mkdir(f\"{os.getcwd()}/{p}\")\n",
    "crearPaths()"
   ]
  },
  {
   "cell_type": "code",
   "execution_count": 32,
   "id": "683f6167",
   "metadata": {},
   "outputs": [],
   "source": [
    "#correr experimentos (ver como hay que modificar con lo de usar python y c++ juntos)\n",
    "def correr_experimento(archivo_training, archivo_testing, archivo_salida, k, metodo, nitter, epsilon, alfa):\n",
    "        \n",
    "    # Crear proceso para ejecutar el codigo.\n",
    "    if metodo == 0:\n",
    "        process = subprocess.Popen([\"./build/tp2\", archivo_training, archivo_testing, archivo_salida, k, metodo], stderr=subprocess.PIPE, stdout=subprocess.PIPE, stdin=subprocess.PIPE, universal_newlines = True)\n",
    "    else:\n",
    "        process = subprocess.Popen([\"./build/tp2\", archivo_training, archivo_testing, archivo_salida, k, metodo, nitter, epsilon, alfa], stderr=subprocess.PIPE, stdout=subprocess.PIPE, stdin=subprocess.PIPE, universal_newlines = True)\n",
    "\n",
    "    # Poner la instancia en la entrada estandar y leer salida de STDERR con el tiempo de ejecución.\n",
    "    stdout, stderr = process.communicate() # communicate() devuelve una tupla (stdout, stderr)\n",
    "\n",
    "    tiempo_de_ejecucion = str.splitlines(stderr)[0]\n",
    "    #print(clog)\n",
    "\n",
    "    # Correr experimento.\n",
    "    exit_code = process.wait()\n",
    "\n",
    "    # Verificar que el proceso no fallo.\n",
    "    if exit_code != 0: raise(F\"Hubo un error en la experimentacion con el metodo {'kNN' if metodo == 0 else 'PCA'} con los parámetros {archivo_training}, {archivo_testing}, k:{k} {', nitter:'+nitter if metodo == 1 else ''} {', epsilon:'+epsilon if metodo == 1 else ''} {', alfa:'+alfa if metodo == 1 else ''}.\")\n",
    "    return float(tiempo_de_ejecucion)\n"
   ]
  },
  {
   "cell_type": "code",
   "execution_count": 33,
   "id": "0fd0a516",
   "metadata": {},
   "outputs": [],
   "source": [
    "class Experimento:\n",
    "    def __init__(self, trainingDataset, testingDataset, outputFile, metodo, vecinos, num_iter, alfa, epsilon):\n",
    "        self.trainingDataset = trainingDataset\n",
    "        self.testingDataset = testingDataset\n",
    "        self.outputFile = outputFile\n",
    "        self.metodo = metodo\n",
    "        self.vecinos = vecinos\n",
    "        self.num_iter = num_iter\n",
    "        self.alfa = alfa\n",
    "        self.epsilon = epsilon\n",
    "\n",
    "    def display(self):\n",
    "        display(f\"Archivo De Entrenamiento: {self.trainingDataset}\")\n",
    "        display(f\"Archivo De Prueba: {self.testingDataset}\")\n",
    "        display(f\"Archivo De Salida: {self.outputFile}\")\n",
    "        display(f\"Metodo: {self.metodo}\")\n",
    "        display(f\"Vecinos: {self.vecinos}\")\n",
    "        display(f\"Numero De Iteraciones: {self.num_iter}\")\n",
    "        display(f\"Alfa: {self.alfa}\")\n",
    "        display(f\"Epsilon: {self.epsilon}\")"
   ]
  },
  {
   "cell_type": "code",
   "execution_count": 41,
   "id": "3060cade",
   "metadata": {},
   "outputs": [],
   "source": [
    "def reduceDataset(n):\n",
    "    dataset = pd.read_csv(\"train.csv\")\n",
    "    reducedDataset = resample(dataset, replace = False, n_samples = n)\n",
    "    return reducedDataset\n",
    "\n",
    "\n",
    "def splitDataset(dataset, testSize=0.3): #default 70-30 como el fernet\n",
    "    train, test = train_test_split(dataset, test_size=testSize);\n",
    "    train.to_csv(path_or_buf=\"Data/random_train.csv\", index=False)\n",
    "    test.to_csv(path_or_buf=\"Data/random_validate.csv\", index=False)\n",
    "    return[train, test]\n",
    "\n",
    "\n",
    "#obsoleta\n",
    "def k_foldDataset(dataset, k):\n",
    "    kf = KFold(n_splits=k, shuffle=True)\n",
    "    fold_indices = kf.split(X=dataset)\n",
    "    for key, indices in enumerate(fold_indices, 1):\n",
    "        train_indices = indices[0]\n",
    "        #test_indices = indices[1]\n",
    "        fold_train_dataset = dataset.filter(items=train_indices, axis=0) \n",
    "        #fold_test_dataset = dataset.filter(items=test_indices, axis=0) \n",
    "        fold_train_dataset.to_csv(path_or_buf=f\"Data/{k}_fold-{key}.csv\", index=False)\n",
    "        #fold_test_dataset.to_csv(path_or_buf=f\"Data/{k}_fold-{key}-test.csv\", index=False)\n",
    "    "
   ]
  },
  {
   "cell_type": "code",
   "execution_count": 50,
   "id": "f2b8efee",
   "metadata": {},
   "outputs": [
    {
     "name": "stdout",
     "output_type": "stream",
     "text": [
      "<class 'pandas.core.frame.DataFrame'>\n"
     ]
    }
   ],
   "source": [
    "#si se corre dos veces sobre la misma cantidad de folds pisa los archivos\n",
    "def prepareDataSet(size, folds):\n",
    "    reducedDataset = reduceDataset(size);\n",
    "    kf = KFold(n_splits=folds, shuffle=True)\n",
    "    fold_splits = kf.split(X=reducedDataset)\n",
    "\n",
    "    for key, split in enumerate(fold_splits, 1):\n",
    "        training_indices = split[0]\n",
    "        validate_indices = split[1]\n",
    "\n",
    "        trainDataset = reducedDataset.iloc[training_indices]\n",
    "        validateDataset = reducedDataset.iloc[validate_indices]\n",
    "        \n",
    "        trainDataset.to_csv(path_or_buf=f\"Data/{folds}_fold-SET-{key}-train.csv\", index=False)\n",
    "        validateDataset.to_csv(path_or_buf=f\"Data/{folds}_fold-SET-{key}-validate.csv\", index=False)\n",
    "                "
   ]
  },
  {
   "cell_type": "code",
   "execution_count": 58,
   "id": "90071238",
   "metadata": {},
   "outputs": [],
   "source": [
    "experimentos=[]"
   ]
  },
  {
   "cell_type": "code",
   "execution_count": 59,
   "id": "4db7e9af",
   "metadata": {},
   "outputs": [
    {
     "name": "stdout",
     "output_type": "stream",
     "text": [
      "<class 'pandas.core.frame.DataFrame'>\n"
     ]
    }
   ],
   "source": [
    "#Generar experimentos para busqueda de mejor k de knn sin pca en un 5-fold del dataset reducido\n",
    "def generarExperimentosKnn(folds, maxK, step):\n",
    "    knnExp = []\n",
    "    for key in range(1,folds+1):\n",
    "        knnExp += [ Experimento(\n",
    "            f\"./Data/{folds}_fold-SET-{key}-train.csv\",\n",
    "            f\"./Data/{folds}_fold-SET-{key}-validate.csv\",\n",
    "            f\"./resultados/{folds}_fold-SET-{key}-{k}-vecinos-resultados.csv\",\n",
    "            \"0\",\n",
    "            f\"{k}\",\n",
    "            \"0\",\"0\",\"0\"\n",
    "        ) for k in range(1, maxK+1, step)]\n",
    "    return knnExp\n",
    "    \n",
    "\n",
    "#prepareDataSet(10000, 5)\n",
    "#experimentos += generarExperimentosKnn(5, 2001, 50)\n",
    "\n",
    "prepareDataSet(42000, 5)\n",
    "experimentos += generarExperimentosKnn(5, 51, 5)\n",
    "#experimentos += generarExperimentosKnn(5, 6, 1)"
   ]
  },
  {
   "cell_type": "code",
   "execution_count": 60,
   "id": "bbbe8002",
   "metadata": {},
   "outputs": [
    {
     "data": {
      "text/plain": [
       "'Experimento: 2 de 55 info:'"
      ]
     },
     "metadata": {},
     "output_type": "display_data"
    },
    {
     "data": {
      "text/plain": [
       "'Archivo De Entrenamiento: ./Data/5_fold-SET-1-train.csv'"
      ]
     },
     "metadata": {},
     "output_type": "display_data"
    },
    {
     "data": {
      "text/plain": [
       "'Archivo De Prueba: ./Data/5_fold-SET-1-validate.csv'"
      ]
     },
     "metadata": {},
     "output_type": "display_data"
    },
    {
     "data": {
      "text/plain": [
       "'Archivo De Salida: ./resultados/5_fold-SET-1-6-vecinos-resultados.csv'"
      ]
     },
     "metadata": {},
     "output_type": "display_data"
    },
    {
     "data": {
      "text/plain": [
       "'Metodo: 0'"
      ]
     },
     "metadata": {},
     "output_type": "display_data"
    },
    {
     "data": {
      "text/plain": [
       "'Vecinos: 6'"
      ]
     },
     "metadata": {},
     "output_type": "display_data"
    },
    {
     "data": {
      "text/plain": [
       "'Numero De Iteraciones: 0'"
      ]
     },
     "metadata": {},
     "output_type": "display_data"
    },
    {
     "data": {
      "text/plain": [
       "'Alfa: 0'"
      ]
     },
     "metadata": {},
     "output_type": "display_data"
    },
    {
     "data": {
      "text/plain": [
       "'Epsilon: 0'"
      ]
     },
     "metadata": {},
     "output_type": "display_data"
    },
    {
     "ename": "KeyboardInterrupt",
     "evalue": "",
     "output_type": "error",
     "traceback": [
      "\u001b[0;31m---------------------------------------------------------------------------\u001b[0m",
      "\u001b[0;31mKeyboardInterrupt\u001b[0m                         Traceback (most recent call last)",
      "\u001b[1;32m/home/lovi/Desktop/uni/metodos/Tp2-Metodos/Experimentos.ipynb Cell 9'\u001b[0m in \u001b[0;36m<cell line: 4>\u001b[0;34m()\u001b[0m\n\u001b[1;32m      <a href='vscode-notebook-cell:/home/lovi/Desktop/uni/metodos/Tp2-Metodos/Experimentos.ipynb#ch0000008?line=8'>9</a>\u001b[0m tiempos \u001b[39m=\u001b[39m []\n\u001b[1;32m     <a href='vscode-notebook-cell:/home/lovi/Desktop/uni/metodos/Tp2-Metodos/Experimentos.ipynb#ch0000008?line=9'>10</a>\u001b[0m \u001b[39mfor\u001b[39;00m i \u001b[39min\u001b[39;00m \u001b[39mrange\u001b[39m(\u001b[39m0\u001b[39m, iteraciones):\n\u001b[0;32m---> <a href='vscode-notebook-cell:/home/lovi/Desktop/uni/metodos/Tp2-Metodos/Experimentos.ipynb#ch0000008?line=10'>11</a>\u001b[0m     tiempo \u001b[39m=\u001b[39m correr_experimento(\n\u001b[1;32m     <a href='vscode-notebook-cell:/home/lovi/Desktop/uni/metodos/Tp2-Metodos/Experimentos.ipynb#ch0000008?line=11'>12</a>\u001b[0m         experimento\u001b[39m.\u001b[39;49mtrainingDataset, \n\u001b[1;32m     <a href='vscode-notebook-cell:/home/lovi/Desktop/uni/metodos/Tp2-Metodos/Experimentos.ipynb#ch0000008?line=12'>13</a>\u001b[0m         experimento\u001b[39m.\u001b[39;49mtestingDataset, \n\u001b[1;32m     <a href='vscode-notebook-cell:/home/lovi/Desktop/uni/metodos/Tp2-Metodos/Experimentos.ipynb#ch0000008?line=13'>14</a>\u001b[0m         experimento\u001b[39m.\u001b[39;49moutputFile, \n\u001b[1;32m     <a href='vscode-notebook-cell:/home/lovi/Desktop/uni/metodos/Tp2-Metodos/Experimentos.ipynb#ch0000008?line=14'>15</a>\u001b[0m         experimento\u001b[39m.\u001b[39;49mvecinos, \n\u001b[1;32m     <a href='vscode-notebook-cell:/home/lovi/Desktop/uni/metodos/Tp2-Metodos/Experimentos.ipynb#ch0000008?line=15'>16</a>\u001b[0m         experimento\u001b[39m.\u001b[39;49mmetodo, \n\u001b[1;32m     <a href='vscode-notebook-cell:/home/lovi/Desktop/uni/metodos/Tp2-Metodos/Experimentos.ipynb#ch0000008?line=16'>17</a>\u001b[0m         experimento\u001b[39m.\u001b[39;49mnum_iter, \n\u001b[1;32m     <a href='vscode-notebook-cell:/home/lovi/Desktop/uni/metodos/Tp2-Metodos/Experimentos.ipynb#ch0000008?line=17'>18</a>\u001b[0m         experimento\u001b[39m.\u001b[39;49mepsilon, \n\u001b[1;32m     <a href='vscode-notebook-cell:/home/lovi/Desktop/uni/metodos/Tp2-Metodos/Experimentos.ipynb#ch0000008?line=18'>19</a>\u001b[0m         experimento\u001b[39m.\u001b[39;49malfa\n\u001b[1;32m     <a href='vscode-notebook-cell:/home/lovi/Desktop/uni/metodos/Tp2-Metodos/Experimentos.ipynb#ch0000008?line=19'>20</a>\u001b[0m     )\n\u001b[1;32m     <a href='vscode-notebook-cell:/home/lovi/Desktop/uni/metodos/Tp2-Metodos/Experimentos.ipynb#ch0000008?line=20'>21</a>\u001b[0m     tiempos\u001b[39m.\u001b[39mappend(tiempo)\n\u001b[1;32m     <a href='vscode-notebook-cell:/home/lovi/Desktop/uni/metodos/Tp2-Metodos/Experimentos.ipynb#ch0000008?line=23'>24</a>\u001b[0m media \u001b[39m=\u001b[39m np\u001b[39m.\u001b[39mmedian(tiempos)\n",
      "\u001b[1;32m/home/lovi/Desktop/uni/metodos/Tp2-Metodos/Experimentos.ipynb Cell 3'\u001b[0m in \u001b[0;36mcorrer_experimento\u001b[0;34m(archivo_training, archivo_testing, archivo_salida, k, metodo, nitter, epsilon, alfa)\u001b[0m\n\u001b[1;32m      <a href='vscode-notebook-cell:/home/lovi/Desktop/uni/metodos/Tp2-Metodos/Experimentos.ipynb#ch0000002?line=7'>8</a>\u001b[0m     process \u001b[39m=\u001b[39m subprocess\u001b[39m.\u001b[39mPopen([\u001b[39m\"\u001b[39m\u001b[39m./build/tp2\u001b[39m\u001b[39m\"\u001b[39m, archivo_training, archivo_testing, archivo_salida, k, metodo, nitter, epsilon, alfa], stderr\u001b[39m=\u001b[39msubprocess\u001b[39m.\u001b[39mPIPE, stdout\u001b[39m=\u001b[39msubprocess\u001b[39m.\u001b[39mPIPE, stdin\u001b[39m=\u001b[39msubprocess\u001b[39m.\u001b[39mPIPE, universal_newlines \u001b[39m=\u001b[39m \u001b[39mTrue\u001b[39;00m)\n\u001b[1;32m     <a href='vscode-notebook-cell:/home/lovi/Desktop/uni/metodos/Tp2-Metodos/Experimentos.ipynb#ch0000002?line=9'>10</a>\u001b[0m \u001b[39m# Poner la instancia en la entrada estandar y leer salida de STDERR con el tiempo de ejecución.\u001b[39;00m\n\u001b[0;32m---> <a href='vscode-notebook-cell:/home/lovi/Desktop/uni/metodos/Tp2-Metodos/Experimentos.ipynb#ch0000002?line=10'>11</a>\u001b[0m stdout, stderr \u001b[39m=\u001b[39m process\u001b[39m.\u001b[39;49mcommunicate() \u001b[39m# communicate() devuelve una tupla (stdout, stderr)\u001b[39;00m\n\u001b[1;32m     <a href='vscode-notebook-cell:/home/lovi/Desktop/uni/metodos/Tp2-Metodos/Experimentos.ipynb#ch0000002?line=12'>13</a>\u001b[0m tiempo_de_ejecucion \u001b[39m=\u001b[39m \u001b[39mstr\u001b[39m\u001b[39m.\u001b[39msplitlines(stderr)[\u001b[39m0\u001b[39m]\n\u001b[1;32m     <a href='vscode-notebook-cell:/home/lovi/Desktop/uni/metodos/Tp2-Metodos/Experimentos.ipynb#ch0000002?line=13'>14</a>\u001b[0m \u001b[39m#print(clog)\u001b[39;00m\n\u001b[1;32m     <a href='vscode-notebook-cell:/home/lovi/Desktop/uni/metodos/Tp2-Metodos/Experimentos.ipynb#ch0000002?line=14'>15</a>\u001b[0m \n\u001b[1;32m     <a href='vscode-notebook-cell:/home/lovi/Desktop/uni/metodos/Tp2-Metodos/Experimentos.ipynb#ch0000002?line=15'>16</a>\u001b[0m \u001b[39m# Correr experimento.\u001b[39;00m\n",
      "File \u001b[0;32m/usr/lib/python3.8/subprocess.py:1028\u001b[0m, in \u001b[0;36mPopen.communicate\u001b[0;34m(self, input, timeout)\u001b[0m\n\u001b[1;32m   <a href='file:///usr/lib/python3.8/subprocess.py?line=1024'>1025</a>\u001b[0m     endtime \u001b[39m=\u001b[39m \u001b[39mNone\u001b[39;00m\n\u001b[1;32m   <a href='file:///usr/lib/python3.8/subprocess.py?line=1026'>1027</a>\u001b[0m \u001b[39mtry\u001b[39;00m:\n\u001b[0;32m-> <a href='file:///usr/lib/python3.8/subprocess.py?line=1027'>1028</a>\u001b[0m     stdout, stderr \u001b[39m=\u001b[39m \u001b[39mself\u001b[39;49m\u001b[39m.\u001b[39;49m_communicate(\u001b[39minput\u001b[39;49m, endtime, timeout)\n\u001b[1;32m   <a href='file:///usr/lib/python3.8/subprocess.py?line=1028'>1029</a>\u001b[0m \u001b[39mexcept\u001b[39;00m \u001b[39mKeyboardInterrupt\u001b[39;00m:\n\u001b[1;32m   <a href='file:///usr/lib/python3.8/subprocess.py?line=1029'>1030</a>\u001b[0m     \u001b[39m# https://bugs.python.org/issue25942\u001b[39;00m\n\u001b[1;32m   <a href='file:///usr/lib/python3.8/subprocess.py?line=1030'>1031</a>\u001b[0m     \u001b[39m# See the detailed comment in .wait().\u001b[39;00m\n\u001b[1;32m   <a href='file:///usr/lib/python3.8/subprocess.py?line=1031'>1032</a>\u001b[0m     \u001b[39mif\u001b[39;00m timeout \u001b[39mis\u001b[39;00m \u001b[39mnot\u001b[39;00m \u001b[39mNone\u001b[39;00m:\n",
      "File \u001b[0;32m/usr/lib/python3.8/subprocess.py:1868\u001b[0m, in \u001b[0;36mPopen._communicate\u001b[0;34m(self, input, endtime, orig_timeout)\u001b[0m\n\u001b[1;32m   <a href='file:///usr/lib/python3.8/subprocess.py?line=1860'>1861</a>\u001b[0m     \u001b[39mself\u001b[39m\u001b[39m.\u001b[39m_check_timeout(endtime, orig_timeout,\n\u001b[1;32m   <a href='file:///usr/lib/python3.8/subprocess.py?line=1861'>1862</a>\u001b[0m                         stdout, stderr,\n\u001b[1;32m   <a href='file:///usr/lib/python3.8/subprocess.py?line=1862'>1863</a>\u001b[0m                         skip_check_and_raise\u001b[39m=\u001b[39m\u001b[39mTrue\u001b[39;00m)\n\u001b[1;32m   <a href='file:///usr/lib/python3.8/subprocess.py?line=1863'>1864</a>\u001b[0m     \u001b[39mraise\u001b[39;00m \u001b[39mRuntimeError\u001b[39;00m(  \u001b[39m# Impossible :)\u001b[39;00m\n\u001b[1;32m   <a href='file:///usr/lib/python3.8/subprocess.py?line=1864'>1865</a>\u001b[0m         \u001b[39m'\u001b[39m\u001b[39m_check_timeout(..., skip_check_and_raise=True) \u001b[39m\u001b[39m'\u001b[39m\n\u001b[1;32m   <a href='file:///usr/lib/python3.8/subprocess.py?line=1865'>1866</a>\u001b[0m         \u001b[39m'\u001b[39m\u001b[39mfailed to raise TimeoutExpired.\u001b[39m\u001b[39m'\u001b[39m)\n\u001b[0;32m-> <a href='file:///usr/lib/python3.8/subprocess.py?line=1867'>1868</a>\u001b[0m ready \u001b[39m=\u001b[39m selector\u001b[39m.\u001b[39;49mselect(timeout)\n\u001b[1;32m   <a href='file:///usr/lib/python3.8/subprocess.py?line=1868'>1869</a>\u001b[0m \u001b[39mself\u001b[39m\u001b[39m.\u001b[39m_check_timeout(endtime, orig_timeout, stdout, stderr)\n\u001b[1;32m   <a href='file:///usr/lib/python3.8/subprocess.py?line=1870'>1871</a>\u001b[0m \u001b[39m# XXX Rewrite these to use non-blocking I/O on the file\u001b[39;00m\n\u001b[1;32m   <a href='file:///usr/lib/python3.8/subprocess.py?line=1871'>1872</a>\u001b[0m \u001b[39m# objects; they are no longer using C stdio!\u001b[39;00m\n",
      "File \u001b[0;32m/usr/lib/python3.8/selectors.py:415\u001b[0m, in \u001b[0;36m_PollLikeSelector.select\u001b[0;34m(self, timeout)\u001b[0m\n\u001b[1;32m    <a href='file:///usr/lib/python3.8/selectors.py?line=412'>413</a>\u001b[0m ready \u001b[39m=\u001b[39m []\n\u001b[1;32m    <a href='file:///usr/lib/python3.8/selectors.py?line=413'>414</a>\u001b[0m \u001b[39mtry\u001b[39;00m:\n\u001b[0;32m--> <a href='file:///usr/lib/python3.8/selectors.py?line=414'>415</a>\u001b[0m     fd_event_list \u001b[39m=\u001b[39m \u001b[39mself\u001b[39;49m\u001b[39m.\u001b[39;49m_selector\u001b[39m.\u001b[39;49mpoll(timeout)\n\u001b[1;32m    <a href='file:///usr/lib/python3.8/selectors.py?line=415'>416</a>\u001b[0m \u001b[39mexcept\u001b[39;00m \u001b[39mInterruptedError\u001b[39;00m:\n\u001b[1;32m    <a href='file:///usr/lib/python3.8/selectors.py?line=416'>417</a>\u001b[0m     \u001b[39mreturn\u001b[39;00m ready\n",
      "\u001b[0;31mKeyboardInterrupt\u001b[0m: "
     ]
    }
   ],
   "source": [
    "columnas=[\"SetEntrenamiento\", \"SetTesting\", \"Resultados\", \"Método\", \"Vecinos\", \"Numero de iteraciones\", \"Alfa\", \"Epsilon\", \"Tiempo\"]\n",
    "filas=[]\n",
    "iteraciones = 1; #CAMBIAR CUANDO SE CORRA EN SERIO\n",
    "for index, experimento in enumerate(experimentos):\n",
    "    clear_output(wait=True)\n",
    "    display(f\"Experimento: {index+1} de {len(experimentos)} info:\")\n",
    "    experimento.display()\n",
    "    \n",
    "    tiempos = []\n",
    "    for i in range(0, iteraciones):\n",
    "        tiempo = correr_experimento(\n",
    "            experimento.trainingDataset, \n",
    "            experimento.testingDataset, \n",
    "            experimento.outputFile, \n",
    "            experimento.vecinos, \n",
    "            experimento.metodo, \n",
    "            experimento.num_iter, \n",
    "            experimento.epsilon, \n",
    "            experimento.alfa\n",
    "        )\n",
    "        tiempos.append(tiempo)\n",
    "        \n",
    "        \n",
    "    media = np.median(tiempos)\n",
    "    if experimento.metodo == 0:\n",
    "        filas.append([experimento.trainingDataset, experimento.testingDataset, experimento.outputFile, experimento.metodo, experimento.vecinos, tiempo])\n",
    "    else:\n",
    "        filas.append([experimento.trainingDataset, experimento.testingDataset, experimento.outputFile, experimento.metodo, experimento.vecinos, experimento.num_iter, experimento.alfa, experimento.epsilon, tiempo])\n",
    "    \n",
    "df_resultado = pd.DataFrame(filas, columns=columnas);\n",
    "df_resultado.to_csv(\"./resultados/resultado.csv\", index=False, header=True);\n"
   ]
  },
  {
   "cell_type": "code",
   "execution_count": 56,
   "id": "7e330bea",
   "metadata": {},
   "outputs": [
    {
     "name": "stdout",
     "output_type": "stream",
     "text": [
      "1\n"
     ]
    }
   ],
   "source": [
    "def extractLabelsFrom(archivo):\n",
    "    dataset = pd.read_csv(archivo);\n",
    "    labels = dataset[dataset.columns[0]]\n",
    "    return labels\n",
    "\n",
    "\n",
    "def calculateAccuracy(sourceFile, resultsFile):\n",
    "    expectedLabels = extractLabelsFrom(sourceFile)\n",
    "    resultLabels = extractLabelsFrom(resultsFile)\n",
    "    \n",
    "    hits = 0\n",
    "    for index, result in enumerate(resultLabels):\n",
    "        if result == expectedLabels[index]:\n",
    "            hits += 1\n",
    "    accuracy = hits/len(expectedLabels)\n",
    "    return accuracy\n",
    "\n",
    "def averageAccuracy(vecinos, x_fold):\n",
    "    sourceFiles = [f\"./Data/{x_fold}_fold-SET-{set}-validate.csv\" for set in range(1, x_fold+1)]\n",
    "    resultFiles = [f\"./resultados/{x_fold}_fold-SET-{set}-{vecinos}-vecinos-resultados.csv\" for set in range(1, x_fold+1)]\n",
    "    \n",
    "    accuracies = []\n",
    "    for index, srcFile in enumerate(sourceFiles):\n",
    "        accuracies.append(calculateAccuracy(srcFile, resultFiles[index]))\n",
    "    \n",
    "    return np.median(accuracies)\n",
    "\n",
    "max_K = 1\n",
    "max_accuracy = 0\n",
    "for i in range (1,2002,50):\n",
    "    next_value = averageAccuracy(i, 5)\n",
    "    if next_value > max_accuracy:\n",
    "        max_K = i\n",
    "        max_accuracy = next_value\n",
    "\n",
    "print(max_K)"
   ]
  }
 ],
 "metadata": {
  "interpreter": {
   "hash": "8344703f0a84877529c46e261d4f1cd9ed0ca6d4d423603980e1c9fbc5082b83"
  },
  "kernelspec": {
   "display_name": "Python 3.8.10 ('metodosTP2')",
   "language": "python",
   "name": "python3"
  },
  "language_info": {
   "codemirror_mode": {
    "name": "ipython",
    "version": 3
   },
   "file_extension": ".py",
   "mimetype": "text/x-python",
   "name": "python",
   "nbconvert_exporter": "python",
   "pygments_lexer": "ipython3",
   "version": "3.8.10"
  }
 },
 "nbformat": 4,
 "nbformat_minor": 5
}
