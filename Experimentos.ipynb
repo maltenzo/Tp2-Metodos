{
 "cells": [
  {
   "cell_type": "code",
   "execution_count": 2,
   "id": "fd101e34",
   "metadata": {},
   "outputs": [],
   "source": [
    "#imports\n",
    "import math, subprocess\n",
    "import pandas as pd\n",
    "import numpy as np\n",
    "from IPython.display import display, clear_output\n",
    "import os\n",
    "from os import listdir, path"
   ]
  },
  {
   "cell_type": "code",
   "execution_count": 3,
   "id": "683f6167",
   "metadata": {},
   "outputs": [],
   "source": [
    "#correr experimentos (ver como hay que modificar con lo de usar python y c++ juntos)\n",
    "def correr_experimento(archivo_entrada, archivo_salida, metodo):\n",
    "    # Crear proceso para ejecutar el codigo.\n",
    "    process = subprocess.Popen([\"./build/tp2\", archivo_entrada, archivo_salida, metodo], stderr=subprocess.PIPE, stdout=subprocess.PIPE, stdin=subprocess.PIPE, universal_newlines = True)\n",
    "\n",
    "    # Poner la instancia en la entrada estandar y leer salida de STDERR con el tiempo de ejecución.\n",
    "    stdout, stderr = process.communicate() # communicate() devuelve una tupla (stdout, stderr)\n",
    "\n",
    "    tiempo_de_ejecucion = str.splitlines(stderr)[0]\n",
    "    #print(clog)\n",
    "\n",
    "    # Correr experimento.\n",
    "    exit_code = process.wait()\n",
    "\n",
    "    # Verificar que el proceso no fallo.\n",
    "    if exit_code != 0: raise(F\"Hubo un error en la experimentacion con el metodo {'EG' if metodo == 0 else 'LU'} sobre la instancia {archivo_entrada}.\")\n",
    "    return float(tiempo_de_ejecucion)\n"
   ]
  },
  {
   "cell_type": "code",
   "execution_count": 32,
   "id": "0fd0a516",
   "metadata": {},
   "outputs": [],
   "source": [
    "class Experimento:\n",
    "    def __init__(self, metodo, vecinos, extraData):\n",
    "        self.metodo = metodo\n",
    "        self.vecinos = vecinos\n",
    "        self.extraData = extraData\n",
    "\n",
    "    def print(self):\n",
    "        print(f\"Metodo: {self.metodo}\")\n",
    "        print(f\"Vecinos: {self.vecinos}\")\n",
    "        print(f\"extraData: {self.extraData}\")"
   ]
  },
  {
   "cell_type": "code",
   "execution_count": 33,
   "id": "90071238",
   "metadata": {},
   "outputs": [],
   "source": [
    "experimentos=[Experimento(\"KNN\", i, \"no\") for i in range(0, 1000000)]"
   ]
  },
  {
   "cell_type": "code",
   "execution_count": null,
   "id": "d5a70315",
   "metadata": {},
   "outputs": [
    {
     "name": "stdout",
     "output_type": "stream",
     "text": [
      "Experimento: 452348 de 1000000 info:\n",
      "Metodo:KNN\n",
      "Vecinos:452347\n",
      "extraData:no\n"
     ]
    }
   ],
   "source": [
    "columnas=[\"metodo\", \"vecinos\", \"extradata\"]\n",
    "for index, experimento in enumerate(experimentos, start=1):\n",
    "    clear_output(wait=True)\n",
    "    print(f\"Experimento: {index} de {len(experimentos)} info:\")\n",
    "    experimento.print()\n"
   ]
  },
  {
   "cell_type": "code",
   "execution_count": null,
   "id": "3060cade",
   "metadata": {},
   "outputs": [],
   "source": []
  },
  {
   "cell_type": "code",
   "execution_count": null,
   "id": "0da51fec",
   "metadata": {},
   "outputs": [],
   "source": []
  }
 ],
 "metadata": {
  "kernelspec": {
   "display_name": "Python 3 (ipykernel)",
   "language": "python",
   "name": "python3"
  },
  "language_info": {
   "codemirror_mode": {
    "name": "ipython",
    "version": 3
   },
   "file_extension": ".py",
   "mimetype": "text/x-python",
   "name": "python",
   "nbconvert_exporter": "python",
   "pygments_lexer": "ipython3",
   "version": "3.9.12"
  }
 },
 "nbformat": 4,
 "nbformat_minor": 5
}
