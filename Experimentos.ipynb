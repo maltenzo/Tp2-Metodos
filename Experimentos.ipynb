{
 "cells": [
  {
   "cell_type": "code",
   "execution_count": 1,
   "id": "fd101e34",
   "metadata": {},
   "outputs": [],
   "source": [
    "#imports\n",
    "import math, subprocess\n",
    "import pandas as pd\n",
    "import numpy as np\n",
    "from IPython.display import display, clear_output\n",
    "from sklearn.model_selection import train_test_split, KFold\n",
    "from sklearn.utils import resample\n",
    "import os\n",
    "from os import listdir, path"
   ]
  },
  {
   "cell_type": "code",
   "execution_count": 2,
   "id": "0a0ce3fb",
   "metadata": {},
   "outputs": [],
   "source": [
    "paths = [\n",
    "    \"Resultados\",\n",
    "    \"Data\"\n",
    "]\n",
    "def crearPaths(paths=paths):\n",
    "    for p in paths:    \n",
    "        if not path.exists(f\"{os.getcwd()}/{p}\"):\n",
    "            os.mkdir(f\"{os.getcwd()}/{p}\")\n",
    "crearPaths()"
   ]
  },
  {
   "cell_type": "code",
   "execution_count": 3,
   "id": "683f6167",
   "metadata": {},
   "outputs": [],
   "source": [
    "#correr experimentos (ver como hay que modificar con lo de usar python y c++ juntos)\n",
    "def correr_experimento(archivo_training, archivo_testing, archivo_salida, k, metodo, nitter, epsilon, alfa):\n",
    "        \n",
    "    # Crear proceso para ejecutar el codigo.\n",
    "    if metodo == 0:\n",
    "        process = subprocess.Popen([\"./build/tp2\", archivo_training, archivo_testing, archivo_salida, k, metodo], stderr=subprocess.PIPE, stdout=subprocess.PIPE, stdin=subprocess.PIPE, universal_newlines = True)\n",
    "    else:\n",
    "        process = subprocess.Popen([\"./build/tp2\", archivo_training, archivo_testing, archivo_salida, k, metodo, nitter, epsilon, alfa], stderr=subprocess.PIPE, stdout=subprocess.PIPE, stdin=subprocess.PIPE, universal_newlines = True)\n",
    "\n",
    "    # Poner la instancia en la entrada estandar y leer salida de STDERR con el tiempo de ejecución.\n",
    "    stdout, stderr = process.communicate() # communicate() devuelve una tupla (stdout, stderr)\n",
    "\n",
    "    tiempo_de_ejecucion = str.splitlines(stderr)[0]\n",
    "    #print(clog)\n",
    "\n",
    "    # Correr experimento.\n",
    "    exit_code = process.wait()\n",
    "\n",
    "    # Verificar que el proceso no fallo.\n",
    "    if exit_code != 0: raise(F\"Hubo un error en la experimentacion con el metodo {'kNN' if metodo == 0 else 'PCA'} con los parámetros {archivo_training}, {archivo_testing}, k:{k} {', nitter:'+nitter if metodo == 1 else ''} {', epsilon:'+epsilon if metodo == 1 else ''} {', alfa:'+alfa if metodo == 1 else ''}.\")\n",
    "    return float(tiempo_de_ejecucion)\n"
   ]
  },
  {
   "cell_type": "code",
   "execution_count": 4,
   "id": "0fd0a516",
   "metadata": {},
   "outputs": [],
   "source": [
    "class Experimento:\n",
    "    def __init__(self, trainingDataset, testingDataset, outputFile, metodo, vecinos, num_iter, alfa, epsilon):\n",
    "        self.trainingDataset = trainingDataset\n",
    "        self.testingDataset = testingDataset\n",
    "        self.outputFile = outputFile\n",
    "        self.metodo = metodo\n",
    "        self.vecinos = vecinos\n",
    "        self.num_iter = num_iter\n",
    "        self.alfa = alfa\n",
    "        self.epsilon = epsilon\n",
    "\n",
    "    def display(self):\n",
    "        display(f\"Archivo De Entrenamiento: {self.trainingDataset}\")\n",
    "        display(f\"Archivo De Prueba: {self.testingDataset}\")\n",
    "        display(f\"Archivo De Salida: {self.outputFile}\")\n",
    "        display(f\"Metodo: {self.metodo}\")\n",
    "        display(f\"Vecinos: {self.vecinos}\")\n",
    "        display(f\"Numero De Iteraciones: {self.num_iter}\")\n",
    "        display(f\"Alfa: {self.alfa}\")\n",
    "        display(f\"Epsilon: {self.epsilon}\")"
   ]
  },
  {
   "cell_type": "code",
   "execution_count": 5,
   "id": "90071238",
   "metadata": {},
   "outputs": [],
   "source": [
    "#Ya no sirve\n",
    "#experimentos=[Experimento(\"KNN\", i, \"no\") for i in range(0, 1000)]\n",
    "\n",
    "experimentos=[]"
   ]
  },
  {
   "cell_type": "code",
   "execution_count": 6,
   "id": "3060cade",
   "metadata": {},
   "outputs": [],
   "source": [
    "def reduceDataset(n):\n",
    "    dataset = pd.read_csv(\"train.csv\")\n",
    "    reducedDataset = resample(dataset, replace = False, n_samples = n)\n",
    "    return reducedDataset\n",
    "\n",
    "\n",
    "def splitDataset(dataset, testSize=0.3): #default 70-30 como el fernet\n",
    "    train, test = train_test_split(dataset, test_size=testSize);\n",
    "    train.to_csv(path_or_buf=\"Data/random_train.csv\", index=False)\n",
    "    test.to_csv(path_or_buf=\"Data/random_validate.csv\", index=False)\n",
    "    return[train, test]\n",
    "\n",
    "def k_foldDataset(dataset, k):\n",
    "    kf = KFold(n_splits=k, shuffle=True)\n",
    "    fold_indices = kf.split(X=dataset)\n",
    "\n",
    "    for key, indices in enumerate(fold_indices, 1):\n",
    "        train_indices = indices[0]\n",
    "        #test_indices = indices[1]\n",
    "        fold_train_dataset = dataset.filter(items=train_indices, axis=0) \n",
    "        #fold_test_dataset = dataset.filter(items=test_indices, axis=0) \n",
    "        fold_train_dataset.to_csv(path_or_buf=f\"Data/{k}_fold-{key}.csv\", index=False)\n",
    "        #fold_test_dataset.to_csv(path_or_buf=f\"Data/{k}_fold-{key}-test.csv\", index=False)\n",
    "    "
   ]
  },
  {
   "cell_type": "code",
   "execution_count": 7,
   "id": "f2b8efee",
   "metadata": {},
   "outputs": [],
   "source": [
    "folds = 5\n",
    "reducedDataset = reduceDataset(10000);\n",
    "k_foldDataset(reducedDataset, folds)\n",
    "\n",
    "for i in range(folds):\n",
    "    validateDataset = pd.read_csv(f\"./Data/{folds}_fold-{i+1}.csv\")\n",
    "    trainDataset = pd.DataFrame()\n",
    "    for j in range(folds):\n",
    "        if j != i:\n",
    "           trainDataset = pd.concat([trainDataset,pd.read_csv(f\"./Data/{folds}_fold-{j+1}.csv\")]) \n",
    "    \n",
    "    validateDataset.to_csv(path_or_buf=f\"Data/{folds}_fold-SET-{i}-validate.csv\", index=False)\n",
    "    trainDataset.to_csv(path_or_buf=f\"Data/{folds}_fold-SET-{i}-train.csv\", index=False)\n",
    "            \n"
   ]
  },
  {
   "cell_type": "code",
   "execution_count": 8,
   "id": "4db7e9af",
   "metadata": {},
   "outputs": [],
   "source": [
    "#Generar experimentos para busqueda de mejor k de knn sin pca en un 5-fold del dataset reducido\n",
    "def generarExperimentosKnn(folds):\n",
    "    knnExp = []\n",
    "    for key in range(0,folds):\n",
    "        knnExp += [ Experimento(\n",
    "            f\"./Data/{folds}_fold-SET-{key}-train.csv\",\n",
    "            f\"./Data/{folds}_fold-SET-{key}-validate.csv\",\n",
    "            f\"./resultados/{folds}_fold-SET-{key}-{k}-vecinos-resultados.csv\",\n",
    "            \"0\",\n",
    "            f\"{k}\",\n",
    "            \"0\",\"0\",\"0\"\n",
    "        ) for k in range(1, 2002, 50)]\n",
    "    return knnExp\n",
    "    \n",
    "\n",
    "experimentos = generarExperimentosKnn(5)"
   ]
  },
  {
   "cell_type": "code",
   "execution_count": 9,
   "id": "bbbe8002",
   "metadata": {},
   "outputs": [
    {
     "data": {
      "text/plain": [
       "'Experimento: 204 de 205 info:'"
      ]
     },
     "metadata": {},
     "output_type": "display_data"
    },
    {
     "data": {
      "text/plain": [
       "'Archivo De Entrenamiento: ./Data/5_fold-SET-4-train.csv'"
      ]
     },
     "metadata": {},
     "output_type": "display_data"
    },
    {
     "data": {
      "text/plain": [
       "'Archivo De Prueba: ./Data/5_fold-SET-4-validate.csv'"
      ]
     },
     "metadata": {},
     "output_type": "display_data"
    },
    {
     "data": {
      "text/plain": [
       "'Archivo De Salida: ./resultados/5_fold-SET-4-2001-vecinos-resultados.csv'"
      ]
     },
     "metadata": {},
     "output_type": "display_data"
    },
    {
     "data": {
      "text/plain": [
       "'Metodo: 0'"
      ]
     },
     "metadata": {},
     "output_type": "display_data"
    },
    {
     "data": {
      "text/plain": [
       "'Vecinos: 2001'"
      ]
     },
     "metadata": {},
     "output_type": "display_data"
    },
    {
     "data": {
      "text/plain": [
       "'Numero De Iteraciones: 0'"
      ]
     },
     "metadata": {},
     "output_type": "display_data"
    },
    {
     "data": {
      "text/plain": [
       "'Alfa: 0'"
      ]
     },
     "metadata": {},
     "output_type": "display_data"
    },
    {
     "data": {
      "text/plain": [
       "'Epsilon: 0'"
      ]
     },
     "metadata": {},
     "output_type": "display_data"
    }
   ],
   "source": [
    "columnas=[\"SetEntrenamiento\", \"SetTesting\", \"Resultados\", \"Método\", \"Vecinos\", \"Numero de iteraciones\", \"Alfa\", \"Epsilon\", \"Tiempo\"]\n",
    "filas=[]\n",
    "iteraciones = 1; #CAMBIAR CUANDO SE CORRA EN SERIO\n",
    "for index, experimento in enumerate(experimentos):\n",
    "    clear_output(wait=True)\n",
    "    display(f\"Experimento: {index+1} de {len(experimentos)} info:\")\n",
    "    experimento.display()\n",
    "    \n",
    "    tiempos = []\n",
    "    for i in range(0, iteraciones):\n",
    "        tiempo = correr_experimento(\n",
    "            experimento.trainingDataset, \n",
    "            experimento.testingDataset, \n",
    "            experimento.outputFile, \n",
    "            experimento.vecinos, \n",
    "            experimento.metodo, \n",
    "            experimento.num_iter, \n",
    "            experimento.epsilon, \n",
    "            experimento.alfa\n",
    "        )\n",
    "        tiempos.append(tiempo)\n",
    "        \n",
    "        \n",
    "    media = np.median(tiempos)\n",
    "    if experimento.metodo == 0:\n",
    "        filas.append([experimento.trainingDataset, experimento.testingDataset, experimento.outputFile, experimento.metodo, experimento.vecinos, tiempo])\n",
    "    else:\n",
    "        filas.append([experimento.trainingDataset, experimento.testingDataset, experimento.outputFile, experimento.metodo, experimento.vecinos, experimento.num_iter, experimento.alfa, experimento.epsilon, tiempo])\n",
    "    \n",
    "df_resultado = pd.DataFrame(filas, columns=columnas);\n",
    "df_resultado.to_csv(\"./resultados/resultado.csv\", index=False, header=True);\n"
   ]
  },
  {
   "cell_type": "code",
   "execution_count": 26,
   "id": "7e330bea",
   "metadata": {},
   "outputs": [
    {
     "data": {
      "text/plain": [
       "0.5244791666666667"
      ]
     },
     "execution_count": 26,
     "metadata": {},
     "output_type": "execute_result"
    }
   ],
   "source": [
    "def extractLabelsFrom(archivo):\n",
    "    dataset = pd.read_csv(archivo);\n",
    "    labels = dataset[dataset.columns[0]]\n",
    "    return labels\n",
    "\n",
    "\n",
    "def calculateAccuracy(sourceFile, resultsFile):\n",
    "    expectedLabels = extractLabelsFrom(sourceFile)\n",
    "    resultLabels = extractLabelsFrom(resultsFile)\n",
    "    \n",
    "    hits = 0\n",
    "    for index, result in enumerate(resultLabels):\n",
    "        if result == expectedLabels[index]:\n",
    "            hits += 1\n",
    "    accuracy = hits/len(expectedLabels)\n",
    "    return accuracy\n",
    "\n",
    "def averageAccuracy(vecinos, x_fold):\n",
    "    sourceFiles = [f\"./Data/{x_fold}_fold-SET-{set}-validate.csv\" for set in range(0, x_fold)]\n",
    "    resultFiles = [f\"./resultados/{x_fold}_fold-SET-{set}-{vecinos}-vecinos-resultados.csv\" for set in range(0, x_fold)]\n",
    "    \n",
    "    accuracies = []\n",
    "    for index, srcFile in enumerate(sourceFiles):\n",
    "        accuracies.append(calculateAccuracy(srcFile, resultFiles[index]))\n",
    "    \n",
    "    return np.median(accuracies)\n",
    "\n",
    "averageAccuracy(2001, 5)"
   ]
  }
 ],
 "metadata": {
  "interpreter": {
   "hash": "889c0b3ca612a67eaa1dc5740a27885fb9965c2660345635b57c83d6520625b4"
  },
  "kernelspec": {
   "display_name": "Python 3.9.13 64-bit",
   "language": "python",
   "name": "python3"
  },
  "language_info": {
   "codemirror_mode": {
    "name": "ipython",
    "version": 3
   },
   "file_extension": ".py",
   "mimetype": "text/x-python",
   "name": "python",
   "nbconvert_exporter": "python",
   "pygments_lexer": "ipython3",
   "version": "3.9.13"
  }
 },
 "nbformat": 4,
 "nbformat_minor": 5
}
