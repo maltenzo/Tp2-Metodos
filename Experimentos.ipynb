{
 "cells": [
  {
   "cell_type": "code",
   "execution_count": 1,
   "id": "fd101e34",
   "metadata": {},
   "outputs": [],
   "source": [
    "#imports\n",
    "import math, subprocess\n",
    "import pandas as pd\n",
    "import numpy as np\n",
    "from IPython.display import display, clear_output\n",
    "from sklearn.model_selection import train_test_split, KFold\n",
    "import os\n",
    "from os import listdir, path"
   ]
  },
  {
   "cell_type": "code",
   "execution_count": 2,
   "id": "0a0ce3fb",
   "metadata": {},
   "outputs": [],
   "source": [
    "paths = [\n",
    "    \"Resultados\",\n",
    "    \"Data\"\n",
    "]\n",
    "def crearPaths(paths=paths):\n",
    "    for p in paths:    \n",
    "        if not path.exists(f\"{os.getcwd()}/{p}\"):\n",
    "            os.mkdir(f\"{os.getcwd()}/{p}\")\n",
    "crearPaths()"
   ]
  },
  {
   "cell_type": "code",
   "execution_count": 10,
   "id": "683f6167",
   "metadata": {},
   "outputs": [],
   "source": [
    "#correr experimentos (ver como hay que modificar con lo de usar python y c++ juntos)\n",
    "def correr_experimento(archivo_training, archivo_testing, archivo_salida, k, metodo, nitter, epsilon, alfa):\n",
    "        \n",
    "    # Crear proceso para ejecutar el codigo.\n",
    "    if metodo == 0:\n",
    "        process = subprocess.Popen([\"./build/tp2\", archivo_training, archivo_testing, archivo_salida, k, metodo], stderr=subprocess.PIPE, stdout=subprocess.PIPE, stdin=subprocess.PIPE, universal_newlines = True)\n",
    "    else:\n",
    "        process = subprocess.Popen([\"./build/tp2\", archivo_training, archivo_testing, archivo_salida, k, metodo, nitter, epsilon, alfa], stderr=subprocess.PIPE, stdout=subprocess.PIPE, stdin=subprocess.PIPE, universal_newlines = True)\n",
    "\n",
    "    # Poner la instancia en la entrada estandar y leer salida de STDERR con el tiempo de ejecución.\n",
    "    stdout, stderr = process.communicate() # communicate() devuelve una tupla (stdout, stderr)\n",
    "\n",
    "    tiempo_de_ejecucion = str.splitlines(stderr)[0]\n",
    "    #print(clog)\n",
    "\n",
    "    # Correr experimento.\n",
    "    exit_code = process.wait()\n",
    "\n",
    "    # Verificar que el proceso no fallo.\n",
    "    if exit_code != 0: raise(F\"Hubo un error en la experimentacion con el metodo {'kNN' if metodo == 0 else 'PCA'} con los parámetros {archivo_training}, {archivo_testing}, k:{k} {', nitter:'+nitter if metodo == 1 else ''} {', epsilon:'+epsilon if metodo == 1 else ''} {', alfa:'+alfa if metodo == 1 else ''}.\")\n",
    "    return float(tiempo_de_ejecucion)\n"
   ]
  },
  {
   "cell_type": "code",
   "execution_count": 11,
   "id": "0fd0a516",
   "metadata": {},
   "outputs": [],
   "source": [
    "class Experimento:\n",
    "    def __init__(self, trainingDataset, testingDataset, outputFile, metodo, vecinos, num_iter, alfa, epsilon):\n",
    "        self.trainingDataset = trainingDataset\n",
    "        self.testingDataset = testingDataset\n",
    "        self.outputFile = outputFile\n",
    "        self.metodo = metodo\n",
    "        self.vecinos = vecinos\n",
    "        self.num_iter = num_iter\n",
    "        self.alfa = alfa\n",
    "        self.epsilon = epsilon\n",
    "\n",
    "    def print(self):\n",
    "        print(f\"Archivo De Entrenamiento: {self.trainingDataset}\")\n",
    "        print(f\"Archivo De Prueba: {self.testingDataset}\")\n",
    "        print(f\"Archivo De Salida: {self.outputFile}\")\n",
    "        print(f\"Metodo: {self.metodo}\")\n",
    "        print(f\"Vecinos: {self.vecinos}\")\n",
    "        print(f\"Numero De Iteraciones: {self.num_iter}\")\n",
    "        print(f\"Alfa: {self.alfa}\")\n",
    "        print(f\"Epsilon: {self.epsilon}\")"
   ]
  },
  {
   "cell_type": "code",
   "execution_count": 12,
   "id": "90071238",
   "metadata": {},
   "outputs": [],
   "source": [
    "#Ya no sirve\n",
    "#experimentos=[Experimento(\"KNN\", i, \"no\") for i in range(0, 1000)]\n",
    "\n",
    "experimentos=[]"
   ]
  },
  {
   "cell_type": "code",
   "execution_count": 13,
   "id": "3060cade",
   "metadata": {},
   "outputs": [],
   "source": [
    "def splitDataset(testSize=0.3): #default 70-30 como el fernet\n",
    "    dataset = pd.read_csv(\"train.csv\")\n",
    "    train, test = train_test_split(dataset, test_size=testSize);\n",
    "    train.to_csv(path_or_buf=\"Data/random_train.csv\", index=False)\n",
    "    test.to_csv(path_or_buf=\"Data/random_validate.csv\", index=False)\n",
    "    return[train, test]\n",
    "\n",
    "def k_foldDataSet(k):\n",
    "    dataset = pd.read_csv(\"train.csv\")\n",
    "    kf = KFold(n_splits=k, shuffle=True)\n",
    "    fold_indices = kf.split(X=dataset)\n",
    "\n",
    "    for key, indices in enumerate(fold_indices, 1):\n",
    "        train_indices = indices[0]\n",
    "        #test_indices = indices[1]\n",
    "        fold_train_dataset = dataset.filter(items=train_indices, axis=0) \n",
    "        #fold_test_dataset = dataset.filter(items=test_indices, axis=0) \n",
    "        fold_train_dataset.to_csv(path_or_buf=f\"Data/{k}_fold-{key}-train.csv\", index=False)\n",
    "        #fold_test_dataset.to_csv(path_or_buf=f\"Data/{k}_fold-{key}-test.csv\", index=False)\n",
    "    "
   ]
  },
  {
   "cell_type": "code",
   "execution_count": 1,
   "id": "4db7e9af",
   "metadata": {},
   "outputs": [
    {
     "ename": "NameError",
     "evalue": "name 'experimentos' is not defined",
     "output_type": "error",
     "traceback": [
      "\u001b[0;31m---------------------------------------------------------------------------\u001b[0m",
      "\u001b[0;31mNameError\u001b[0m                                 Traceback (most recent call last)",
      "Input \u001b[0;32mIn [1]\u001b[0m, in \u001b[0;36m<cell line: 15>\u001b[0;34m()\u001b[0m\n\u001b[1;32m      4\u001b[0m     knnExp \u001b[38;5;241m=\u001b[39m [ Experimento(\n\u001b[1;32m      5\u001b[0m         \u001b[38;5;124m\"\u001b[39m\u001b[38;5;124m./Data/random_train.csv\u001b[39m\u001b[38;5;124m\"\u001b[39m,\n\u001b[1;32m      6\u001b[0m         \u001b[38;5;124m\"\u001b[39m\u001b[38;5;124m./Data/random_validate.csv\u001b[39m\u001b[38;5;124m\"\u001b[39m,\n\u001b[0;32m   (...)\u001b[0m\n\u001b[1;32m     10\u001b[0m         \u001b[38;5;241m0\u001b[39m,\u001b[38;5;241m0\u001b[39m,\u001b[38;5;241m0\u001b[39m\n\u001b[1;32m     11\u001b[0m     ) \u001b[38;5;28;01mfor\u001b[39;00m k \u001b[38;5;129;01min\u001b[39;00m \u001b[38;5;28mrange\u001b[39m(\u001b[38;5;241m1\u001b[39m, \u001b[38;5;241m2000\u001b[39m, \u001b[38;5;241m10\u001b[39m)]\n\u001b[1;32m     12\u001b[0m     \u001b[38;5;28;01mreturn\u001b[39;00m knnExp\n\u001b[0;32m---> 15\u001b[0m experimentos \u001b[38;5;241m=\u001b[39m \u001b[43mexperimentos\u001b[49m \u001b[38;5;241m+\u001b[39m generarExperimentosKnn()\n",
      "\u001b[0;31mNameError\u001b[0m: name 'experimentos' is not defined"
     ]
    }
   ],
   "source": [
    "#Boceto\n",
    "#Busca el k en el 70/30\n",
    "def generarExperimentosKnn():\n",
    "    knnExp = [ Experimento(\n",
    "        \"./Data/random_train.csv\",\n",
    "        \"./Data/random_validate.csv\",\n",
    "        f\"./resultados/{k}-vecinos-random-sample.csv\",\n",
    "        0,\n",
    "        k,\n",
    "        0,0,0\n",
    "    ) for k in range(1, 2000, 10)]\n",
    "    return knnExp\n",
    "    \n",
    "\n",
    "experimentos = experimentos + generarExperimentosKnn()"
   ]
  },
  {
   "cell_type": "code",
   "execution_count": null,
   "id": "bbbe8002",
   "metadata": {},
   "outputs": [],
   "source": []
  },
  {
   "cell_type": "code",
   "execution_count": 15,
   "id": "d5a70315",
   "metadata": {},
   "outputs": [
    {
     "name": "stdout",
     "output_type": "stream",
     "text": [
      "Experimento: 0 de 200 info:\n",
      "Archivo De Entrenamiento: Data/random_train.csv\n",
      "Archivo De Prueba: Data/random_validate.csv\n",
      "Archivo De Salida: resultados/1-vecinos-random-sample\n",
      "Metodo: 0\n",
      "Vecinos: 1\n",
      "Numero De Iteraciones: 0\n",
      "Alfa: 0\n",
      "Epsilon: 0\n"
     ]
    },
    {
     "ename": "TypeError",
     "evalue": "expected str, bytes or os.PathLike object, not int",
     "output_type": "error",
     "traceback": [
      "\u001b[0;31m---------------------------------------------------------------------------\u001b[0m",
      "\u001b[0;31mTypeError\u001b[0m                                 Traceback (most recent call last)",
      "Input \u001b[0;32mIn [15]\u001b[0m, in \u001b[0;36m<cell line: 4>\u001b[0;34m()\u001b[0m\n\u001b[1;32m      9\u001b[0m tiempos \u001b[38;5;241m=\u001b[39m []\n\u001b[1;32m     10\u001b[0m \u001b[38;5;28;01mfor\u001b[39;00m it \u001b[38;5;129;01min\u001b[39;00m \u001b[38;5;28mrange\u001b[39m(\u001b[38;5;241m0\u001b[39m, iteraciones):\n\u001b[0;32m---> 11\u001b[0m     tiempo \u001b[38;5;241m=\u001b[39m \u001b[43mcorrer_experimento\u001b[49m\u001b[43m(\u001b[49m\n\u001b[1;32m     12\u001b[0m \u001b[43m        \u001b[49m\u001b[43mexperimento\u001b[49m\u001b[38;5;241;43m.\u001b[39;49m\u001b[43mtrainingDataset\u001b[49m\u001b[43m,\u001b[49m\u001b[43m \u001b[49m\n\u001b[1;32m     13\u001b[0m \u001b[43m        \u001b[49m\u001b[43mexperimento\u001b[49m\u001b[38;5;241;43m.\u001b[39;49m\u001b[43mtestingDataset\u001b[49m\u001b[43m,\u001b[49m\u001b[43m \u001b[49m\n\u001b[1;32m     14\u001b[0m \u001b[43m        \u001b[49m\u001b[43mexperimento\u001b[49m\u001b[38;5;241;43m.\u001b[39;49m\u001b[43moutputFile\u001b[49m\u001b[43m,\u001b[49m\u001b[43m \u001b[49m\n\u001b[1;32m     15\u001b[0m \u001b[43m        \u001b[49m\u001b[43mexperimento\u001b[49m\u001b[38;5;241;43m.\u001b[39;49m\u001b[43mvecinos\u001b[49m\u001b[43m,\u001b[49m\u001b[43m \u001b[49m\n\u001b[1;32m     16\u001b[0m \u001b[43m        \u001b[49m\u001b[43mexperimento\u001b[49m\u001b[38;5;241;43m.\u001b[39;49m\u001b[43mmetodo\u001b[49m\u001b[43m,\u001b[49m\u001b[43m \u001b[49m\n\u001b[1;32m     17\u001b[0m \u001b[43m        \u001b[49m\u001b[43mexperimento\u001b[49m\u001b[38;5;241;43m.\u001b[39;49m\u001b[43mnum_iter\u001b[49m\u001b[43m,\u001b[49m\u001b[43m \u001b[49m\n\u001b[1;32m     18\u001b[0m \u001b[43m        \u001b[49m\u001b[43mexperimento\u001b[49m\u001b[38;5;241;43m.\u001b[39;49m\u001b[43mepsilon\u001b[49m\u001b[43m,\u001b[49m\u001b[43m \u001b[49m\n\u001b[1;32m     19\u001b[0m \u001b[43m        \u001b[49m\u001b[43mexperimento\u001b[49m\u001b[38;5;241;43m.\u001b[39;49m\u001b[43malfa\u001b[49m\n\u001b[1;32m     20\u001b[0m \u001b[43m    \u001b[49m\u001b[43m)\u001b[49m\n\u001b[1;32m     21\u001b[0m     tiempos\u001b[38;5;241m.\u001b[39mappend(tiempo)\n\u001b[1;32m     24\u001b[0m media \u001b[38;5;241m=\u001b[39m np\u001b[38;5;241m.\u001b[39mmedian(tiempos)\n",
      "Input \u001b[0;32mIn [10]\u001b[0m, in \u001b[0;36mcorrer_experimento\u001b[0;34m(archivo_training, archivo_testing, archivo_salida, k, metodo, nitter, epsilon, alfa)\u001b[0m\n\u001b[1;32m      2\u001b[0m \u001b[38;5;28;01mdef\u001b[39;00m \u001b[38;5;21mcorrer_experimento\u001b[39m(archivo_training, archivo_testing, archivo_salida, k, metodo, nitter, epsilon, alfa):\n\u001b[1;32m      3\u001b[0m         \n\u001b[1;32m      4\u001b[0m     \u001b[38;5;66;03m# Crear proceso para ejecutar el codigo.\u001b[39;00m\n\u001b[1;32m      5\u001b[0m     \u001b[38;5;28;01mif\u001b[39;00m metodo \u001b[38;5;241m==\u001b[39m \u001b[38;5;241m0\u001b[39m:\n\u001b[0;32m----> 6\u001b[0m         process \u001b[38;5;241m=\u001b[39m \u001b[43msubprocess\u001b[49m\u001b[38;5;241;43m.\u001b[39;49m\u001b[43mPopen\u001b[49m\u001b[43m(\u001b[49m\u001b[43m[\u001b[49m\u001b[38;5;124;43m\"\u001b[39;49m\u001b[38;5;124;43m./build/tp2\u001b[39;49m\u001b[38;5;124;43m\"\u001b[39;49m\u001b[43m,\u001b[49m\u001b[43m \u001b[49m\u001b[43marchivo_training\u001b[49m\u001b[43m,\u001b[49m\u001b[43m \u001b[49m\u001b[43marchivo_testing\u001b[49m\u001b[43m,\u001b[49m\u001b[43m \u001b[49m\u001b[43marchivo_salida\u001b[49m\u001b[43m,\u001b[49m\u001b[43m \u001b[49m\u001b[43mk\u001b[49m\u001b[43m,\u001b[49m\u001b[43m \u001b[49m\u001b[38;5;241;43m0\u001b[39;49m\u001b[43m]\u001b[49m\u001b[43m,\u001b[49m\u001b[43m \u001b[49m\u001b[43mstderr\u001b[49m\u001b[38;5;241;43m=\u001b[39;49m\u001b[43msubprocess\u001b[49m\u001b[38;5;241;43m.\u001b[39;49m\u001b[43mPIPE\u001b[49m\u001b[43m,\u001b[49m\u001b[43m \u001b[49m\u001b[43mstdout\u001b[49m\u001b[38;5;241;43m=\u001b[39;49m\u001b[43msubprocess\u001b[49m\u001b[38;5;241;43m.\u001b[39;49m\u001b[43mPIPE\u001b[49m\u001b[43m,\u001b[49m\u001b[43m \u001b[49m\u001b[43mstdin\u001b[49m\u001b[38;5;241;43m=\u001b[39;49m\u001b[43msubprocess\u001b[49m\u001b[38;5;241;43m.\u001b[39;49m\u001b[43mPIPE\u001b[49m\u001b[43m,\u001b[49m\u001b[43m \u001b[49m\u001b[43muniversal_newlines\u001b[49m\u001b[43m \u001b[49m\u001b[38;5;241;43m=\u001b[39;49m\u001b[43m \u001b[49m\u001b[38;5;28;43;01mTrue\u001b[39;49;00m\u001b[43m)\u001b[49m\n\u001b[1;32m      7\u001b[0m     \u001b[38;5;28;01melse\u001b[39;00m:\n\u001b[1;32m      8\u001b[0m         process \u001b[38;5;241m=\u001b[39m subprocess\u001b[38;5;241m.\u001b[39mPopen([\u001b[38;5;124m\"\u001b[39m\u001b[38;5;124m./build/tp2\u001b[39m\u001b[38;5;124m\"\u001b[39m, archivo_training, archivo_testing, archivo_salida, k, \u001b[38;5;241m1\u001b[39m, nitter, epsilon, alfa], stderr\u001b[38;5;241m=\u001b[39msubprocess\u001b[38;5;241m.\u001b[39mPIPE, stdout\u001b[38;5;241m=\u001b[39msubprocess\u001b[38;5;241m.\u001b[39mPIPE, stdin\u001b[38;5;241m=\u001b[39msubprocess\u001b[38;5;241m.\u001b[39mPIPE, universal_newlines \u001b[38;5;241m=\u001b[39m \u001b[38;5;28;01mTrue\u001b[39;00m)\n",
      "File \u001b[0;32m/usr/local/Homebrew/Cellar/python@3.9/3.9.12/Frameworks/Python.framework/Versions/3.9/lib/python3.9/subprocess.py:951\u001b[0m, in \u001b[0;36mPopen.__init__\u001b[0;34m(self, args, bufsize, executable, stdin, stdout, stderr, preexec_fn, close_fds, shell, cwd, env, universal_newlines, startupinfo, creationflags, restore_signals, start_new_session, pass_fds, user, group, extra_groups, encoding, errors, text, umask)\u001b[0m\n\u001b[1;32m    947\u001b[0m         \u001b[38;5;28;01mif\u001b[39;00m \u001b[38;5;28mself\u001b[39m\u001b[38;5;241m.\u001b[39mtext_mode:\n\u001b[1;32m    948\u001b[0m             \u001b[38;5;28mself\u001b[39m\u001b[38;5;241m.\u001b[39mstderr \u001b[38;5;241m=\u001b[39m io\u001b[38;5;241m.\u001b[39mTextIOWrapper(\u001b[38;5;28mself\u001b[39m\u001b[38;5;241m.\u001b[39mstderr,\n\u001b[1;32m    949\u001b[0m                     encoding\u001b[38;5;241m=\u001b[39mencoding, errors\u001b[38;5;241m=\u001b[39merrors)\n\u001b[0;32m--> 951\u001b[0m     \u001b[38;5;28;43mself\u001b[39;49m\u001b[38;5;241;43m.\u001b[39;49m\u001b[43m_execute_child\u001b[49m\u001b[43m(\u001b[49m\u001b[43margs\u001b[49m\u001b[43m,\u001b[49m\u001b[43m \u001b[49m\u001b[43mexecutable\u001b[49m\u001b[43m,\u001b[49m\u001b[43m \u001b[49m\u001b[43mpreexec_fn\u001b[49m\u001b[43m,\u001b[49m\u001b[43m \u001b[49m\u001b[43mclose_fds\u001b[49m\u001b[43m,\u001b[49m\n\u001b[1;32m    952\u001b[0m \u001b[43m                        \u001b[49m\u001b[43mpass_fds\u001b[49m\u001b[43m,\u001b[49m\u001b[43m \u001b[49m\u001b[43mcwd\u001b[49m\u001b[43m,\u001b[49m\u001b[43m \u001b[49m\u001b[43menv\u001b[49m\u001b[43m,\u001b[49m\n\u001b[1;32m    953\u001b[0m \u001b[43m                        \u001b[49m\u001b[43mstartupinfo\u001b[49m\u001b[43m,\u001b[49m\u001b[43m \u001b[49m\u001b[43mcreationflags\u001b[49m\u001b[43m,\u001b[49m\u001b[43m \u001b[49m\u001b[43mshell\u001b[49m\u001b[43m,\u001b[49m\n\u001b[1;32m    954\u001b[0m \u001b[43m                        \u001b[49m\u001b[43mp2cread\u001b[49m\u001b[43m,\u001b[49m\u001b[43m \u001b[49m\u001b[43mp2cwrite\u001b[49m\u001b[43m,\u001b[49m\n\u001b[1;32m    955\u001b[0m \u001b[43m                        \u001b[49m\u001b[43mc2pread\u001b[49m\u001b[43m,\u001b[49m\u001b[43m \u001b[49m\u001b[43mc2pwrite\u001b[49m\u001b[43m,\u001b[49m\n\u001b[1;32m    956\u001b[0m \u001b[43m                        \u001b[49m\u001b[43merrread\u001b[49m\u001b[43m,\u001b[49m\u001b[43m \u001b[49m\u001b[43merrwrite\u001b[49m\u001b[43m,\u001b[49m\n\u001b[1;32m    957\u001b[0m \u001b[43m                        \u001b[49m\u001b[43mrestore_signals\u001b[49m\u001b[43m,\u001b[49m\n\u001b[1;32m    958\u001b[0m \u001b[43m                        \u001b[49m\u001b[43mgid\u001b[49m\u001b[43m,\u001b[49m\u001b[43m \u001b[49m\u001b[43mgids\u001b[49m\u001b[43m,\u001b[49m\u001b[43m \u001b[49m\u001b[43muid\u001b[49m\u001b[43m,\u001b[49m\u001b[43m \u001b[49m\u001b[43mumask\u001b[49m\u001b[43m,\u001b[49m\n\u001b[1;32m    959\u001b[0m \u001b[43m                        \u001b[49m\u001b[43mstart_new_session\u001b[49m\u001b[43m)\u001b[49m\n\u001b[1;32m    960\u001b[0m \u001b[38;5;28;01mexcept\u001b[39;00m:\n\u001b[1;32m    961\u001b[0m     \u001b[38;5;66;03m# Cleanup if the child failed starting.\u001b[39;00m\n\u001b[1;32m    962\u001b[0m     \u001b[38;5;28;01mfor\u001b[39;00m f \u001b[38;5;129;01min\u001b[39;00m \u001b[38;5;28mfilter\u001b[39m(\u001b[38;5;28;01mNone\u001b[39;00m, (\u001b[38;5;28mself\u001b[39m\u001b[38;5;241m.\u001b[39mstdin, \u001b[38;5;28mself\u001b[39m\u001b[38;5;241m.\u001b[39mstdout, \u001b[38;5;28mself\u001b[39m\u001b[38;5;241m.\u001b[39mstderr)):\n",
      "File \u001b[0;32m/usr/local/Homebrew/Cellar/python@3.9/3.9.12/Frameworks/Python.framework/Versions/3.9/lib/python3.9/subprocess.py:1754\u001b[0m, in \u001b[0;36mPopen._execute_child\u001b[0;34m(self, args, executable, preexec_fn, close_fds, pass_fds, cwd, env, startupinfo, creationflags, shell, p2cread, p2cwrite, c2pread, c2pwrite, errread, errwrite, restore_signals, gid, gids, uid, umask, start_new_session)\u001b[0m\n\u001b[1;32m   1752\u001b[0m     fds_to_keep \u001b[38;5;241m=\u001b[39m \u001b[38;5;28mset\u001b[39m(pass_fds)\n\u001b[1;32m   1753\u001b[0m     fds_to_keep\u001b[38;5;241m.\u001b[39madd(errpipe_write)\n\u001b[0;32m-> 1754\u001b[0m     \u001b[38;5;28mself\u001b[39m\u001b[38;5;241m.\u001b[39mpid \u001b[38;5;241m=\u001b[39m \u001b[43m_posixsubprocess\u001b[49m\u001b[38;5;241;43m.\u001b[39;49m\u001b[43mfork_exec\u001b[49m\u001b[43m(\u001b[49m\n\u001b[1;32m   1755\u001b[0m \u001b[43m            \u001b[49m\u001b[43margs\u001b[49m\u001b[43m,\u001b[49m\u001b[43m \u001b[49m\u001b[43mexecutable_list\u001b[49m\u001b[43m,\u001b[49m\n\u001b[1;32m   1756\u001b[0m \u001b[43m            \u001b[49m\u001b[43mclose_fds\u001b[49m\u001b[43m,\u001b[49m\u001b[43m \u001b[49m\u001b[38;5;28;43mtuple\u001b[39;49m\u001b[43m(\u001b[49m\u001b[38;5;28;43msorted\u001b[39;49m\u001b[43m(\u001b[49m\u001b[38;5;28;43mmap\u001b[39;49m\u001b[43m(\u001b[49m\u001b[38;5;28;43mint\u001b[39;49m\u001b[43m,\u001b[49m\u001b[43m \u001b[49m\u001b[43mfds_to_keep\u001b[49m\u001b[43m)\u001b[49m\u001b[43m)\u001b[49m\u001b[43m)\u001b[49m\u001b[43m,\u001b[49m\n\u001b[1;32m   1757\u001b[0m \u001b[43m            \u001b[49m\u001b[43mcwd\u001b[49m\u001b[43m,\u001b[49m\u001b[43m \u001b[49m\u001b[43menv_list\u001b[49m\u001b[43m,\u001b[49m\n\u001b[1;32m   1758\u001b[0m \u001b[43m            \u001b[49m\u001b[43mp2cread\u001b[49m\u001b[43m,\u001b[49m\u001b[43m \u001b[49m\u001b[43mp2cwrite\u001b[49m\u001b[43m,\u001b[49m\u001b[43m \u001b[49m\u001b[43mc2pread\u001b[49m\u001b[43m,\u001b[49m\u001b[43m \u001b[49m\u001b[43mc2pwrite\u001b[49m\u001b[43m,\u001b[49m\n\u001b[1;32m   1759\u001b[0m \u001b[43m            \u001b[49m\u001b[43merrread\u001b[49m\u001b[43m,\u001b[49m\u001b[43m \u001b[49m\u001b[43merrwrite\u001b[49m\u001b[43m,\u001b[49m\n\u001b[1;32m   1760\u001b[0m \u001b[43m            \u001b[49m\u001b[43merrpipe_read\u001b[49m\u001b[43m,\u001b[49m\u001b[43m \u001b[49m\u001b[43merrpipe_write\u001b[49m\u001b[43m,\u001b[49m\n\u001b[1;32m   1761\u001b[0m \u001b[43m            \u001b[49m\u001b[43mrestore_signals\u001b[49m\u001b[43m,\u001b[49m\u001b[43m \u001b[49m\u001b[43mstart_new_session\u001b[49m\u001b[43m,\u001b[49m\n\u001b[1;32m   1762\u001b[0m \u001b[43m            \u001b[49m\u001b[43mgid\u001b[49m\u001b[43m,\u001b[49m\u001b[43m \u001b[49m\u001b[43mgids\u001b[49m\u001b[43m,\u001b[49m\u001b[43m \u001b[49m\u001b[43muid\u001b[49m\u001b[43m,\u001b[49m\u001b[43m \u001b[49m\u001b[43mumask\u001b[49m\u001b[43m,\u001b[49m\n\u001b[1;32m   1763\u001b[0m \u001b[43m            \u001b[49m\u001b[43mpreexec_fn\u001b[49m\u001b[43m)\u001b[49m\n\u001b[1;32m   1764\u001b[0m     \u001b[38;5;28mself\u001b[39m\u001b[38;5;241m.\u001b[39m_child_created \u001b[38;5;241m=\u001b[39m \u001b[38;5;28;01mTrue\u001b[39;00m\n\u001b[1;32m   1765\u001b[0m \u001b[38;5;28;01mfinally\u001b[39;00m:\n\u001b[1;32m   1766\u001b[0m     \u001b[38;5;66;03m# be sure the FD is closed no matter what\u001b[39;00m\n",
      "\u001b[0;31mTypeError\u001b[0m: expected str, bytes or os.PathLike object, not int"
     ]
    }
   ],
   "source": [
    "columnas=[\"SetEntrenamiento\", \"SetTesting\", \"Resultados\", \"Método\", \"Vecinos\", \"Numero de iteraciones\", \"Alfa\", \"Epsilon\", \"Tiempo\"]\n",
    "filas=[]\n",
    "iteraciones = 5\n",
    "for index, experimento in enumerate(experimentos):\n",
    "    clear_output(wait=True)\n",
    "    print(f\"Experimento: {index} de {len(experimentos)} info:\")\n",
    "    experimento.print()\n",
    "    \n",
    "    tiempos = []\n",
    "    for it in range(0, iteraciones):\n",
    "        tiempo = correr_experimento(\n",
    "            experimento.trainingDataset, \n",
    "            experimento.testingDataset, \n",
    "            experimento.outputFile, \n",
    "            experimento.vecinos, \n",
    "            experimento.metodo, \n",
    "            experimento.num_iter, \n",
    "            experimento.epsilon, \n",
    "            experimento.alfa\n",
    "        )\n",
    "        tiempos.append(tiempo)\n",
    "        \n",
    "        \n",
    "    media = np.median(tiempos)\n",
    "    if experimento.metodo == 0:\n",
    "        filas.append([experimento.trainingDataSet, experimento.testingDataSet, experimento.outputFile, experimento.metodo, experimento.vecinos, tiempo])\n",
    "    else:\n",
    "        filas.append([experimento.trainingDataSet, experimento.testingDataSet, experimento.outputFile, experimento.metodo, experimento.vecinos, experimento.num_iter, experimento.alfa, experimento.epsilon, tiempo])\n",
    "    \n",
    "df_resultado = pd.DataFrame(filas, columns=columnas);\n",
    "df_resultado.to_csv(\"./resultados/resultado.csv\", index=False, header=True);\n"
   ]
  },
  {
   "cell_type": "code",
   "execution_count": 70,
   "id": "7a56623b",
   "metadata": {},
   "outputs": [
    {
     "data": {
      "text/plain": [
       "[]"
      ]
     },
     "execution_count": 70,
     "metadata": {},
     "output_type": "execute_result"
    }
   ],
   "source": [
    "experimentos"
   ]
  },
  {
   "cell_type": "code",
   "execution_count": null,
   "id": "7e330bea",
   "metadata": {},
   "outputs": [],
   "source": []
  }
 ],
 "metadata": {
  "interpreter": {
   "hash": "9a31b054e04279503324c370c3c85668a12be1e570cb758b045b7e667bab4a14"
  },
  "kernelspec": {
   "display_name": "Python 3 (ipykernel)",
   "language": "python",
   "name": "python3"
  },
  "language_info": {
   "codemirror_mode": {
    "name": "ipython",
    "version": 3
   },
   "file_extension": ".py",
   "mimetype": "text/x-python",
   "name": "python",
   "nbconvert_exporter": "python",
   "pygments_lexer": "ipython3",
   "version": "3.9.12"
  }
 },
 "nbformat": 4,
 "nbformat_minor": 5
}
